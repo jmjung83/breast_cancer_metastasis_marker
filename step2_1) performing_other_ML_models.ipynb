{
 "cells": [
  {
   "cell_type": "code",
   "execution_count": 2,
   "metadata": {
    "colab": {
     "base_uri": "https://localhost:8080/"
    },
    "executionInfo": {
     "elapsed": 955,
     "status": "ok",
     "timestamp": 1653221401649,
     "user": {
      "displayName": "김유림",
      "userId": "09242611142827377637"
     },
     "user_tz": -540
    },
    "id": "2rMspEFTrFA0",
    "outputId": "44f46208-900d-4935-bf91-9e42c0d642b2",
    "scrolled": true
   },
   "outputs": [
    {
     "name": "stdout",
     "output_type": "stream",
     "text": [
      "python 3.9.12 (main, Apr  4 2022, 05:22:27) [MSC v.1916 64 bit (AMD64)]\n"
     ]
    }
   ],
   "source": [
    "# 사용할 패키지를 import합니다\n",
    "import sys\n",
    "print('python', sys.version)\n",
    "\n",
    "import numpy as np\n",
    "import pandas as pd\n",
    "import matplotlib as mpl\n",
    "\n",
    "import glob\n",
    "import pickle\n",
    "import matplotlib.pyplot as plt\n",
    "plt.rc(\"font\", family=\"Malgun Gothic\") # window\n",
    "plt.rc(\"axes\", unicode_minus=False) # x,y축 (-)부호 표시\n",
    "\n",
    "import seaborn as sns\n",
    "\n",
    "# 결과 확인을 용이하게 하기 위한 코드\n",
    "from IPython.core.interactiveshell import InteractiveShell\n",
    "InteractiveShell.ast_node_interactivity = 'all'\n",
    "\n",
    "from sklearn.model_selection import train_test_split\n",
    "#Import scikit-learn metrics module for accuracy calculation\n",
    "from sklearn import metrics\n",
    "#from sklearn.ensemble import AdaBoostClassifier, GradientBoostingClassifier, RandomForestClassifier\n",
    "from xgboost import XGBClassifier\n",
    "from sklearn.metrics import accuracy_score, f1_score, precision_score, recall_score, roc_auc_score, confusion_matrix\n",
    "from sklearn.ensemble import AdaBoostClassifier, RandomForestClassifier"
   ]
  },
  {
   "cell_type": "markdown",
   "metadata": {},
   "source": [
    "# machine learning modeling"
   ]
  },
  {
   "cell_type": "code",
   "execution_count": 27,
   "metadata": {},
   "outputs": [],
   "source": [
    "def Random_Forest(X_train, X_test, y_train, y_test):\n",
    "    rn = RandomForestClassifier(oob_score=True)\n",
    "    model = rn.fit(X_train, y_train)\n",
    "\n",
    "    # Predict the response for test dataset\n",
    "    y_pred = model.predict(X_test)\n",
    "    y_pred_prob = model.predict_proba(X_test)\n",
    "\n",
    "    # Model Accuracy, how often is the classifier correct?\n",
    "    APR=metrics.average_precision_score(y_test, y_pred_prob[:,1], average='weighted')\n",
    "    AUC=metrics.roc_auc_score(y_test, y_pred_prob[:,1])\n",
    "\n",
    "    return APR, AUC\n",
    "\n",
    "def Adaboost(X_train, X_test, y_train, y_test):\n",
    "    abc = AdaBoostClassifier()\n",
    "    model = abc.fit(X_train, y_train)\n",
    "    \n",
    "    # Predict the response for test dataset\n",
    "    y_pred = model.predict(X_test)\n",
    "    y_pred_prob = model.predict_proba(X_test)\n",
    "    \n",
    "    # Model Accuracy, how often is the classifier correct?\n",
    "    APR=metrics.average_precision_score(y_test, y_pred_prob[:,1], average='weighted')\n",
    "    AUC=metrics.roc_auc_score(y_test, y_pred_prob[:,1])\n",
    "\n",
    "    return APR, AUC"
   ]
  },
  {
   "cell_type": "code",
   "execution_count": null,
   "metadata": {
    "scrolled": true
   },
   "outputs": [],
   "source": [
    "## ccle\n",
    "ccle_genes=list(pd.read_table('../data/ccle_gene_list.txt')['gene'])\n",
    "\n",
    "with open('../mid_result/merged_data/BRCA.pickle', 'rb') as f:\n",
    "    mer_table = pickle.load(f)\n",
    "\n",
    "## genes in CCLE database only\n",
    "shared_cols=list(set(mer_table.columns)&set(ccle_genes))+['class']\n",
    "mer_table=mer_table[shared_cols]\n",
    "\n",
    "## X, y preparation\n",
    "X=mer_table.drop(columns='class')\n",
    "y=mer_table['class']\n",
    "\n",
    "res_df1=pd.DataFrame(columns=['APR','AUC'])\n",
    "for it in range(50):\n",
    "    ## split traing and test data\n",
    "    X_train, X_test, y_train, y_test = train_test_split(X,y, test_size=0.2, stratify=y)\n",
    "\n",
    "    ## machine learning model: (other)\n",
    "    #APR, AUC=Random_Forest(X_train, X_test, y_train, y_test)\n",
    "    APR, AUC=Adaboost(X_train, X_test, y_train, y_test)\n",
    "    res_df1.loc[it]=[APR, AUC]\n",
    "\n",
    "with open('../mid_result/other_ML_result/adaboost.pickle', 'wb') as f:\n",
    "    pickle.dump(res_df1, f)\n"
   ]
  },
  {
   "cell_type": "markdown",
   "metadata": {},
   "source": [
    "# Fig S5"
   ]
  },
  {
   "cell_type": "code",
   "execution_count": 40,
   "metadata": {
    "scrolled": false
   },
   "outputs": [
    {
     "data": {
      "text/plain": [
       "<AxesSubplot:>"
      ]
     },
     "execution_count": 40,
     "metadata": {},
     "output_type": "execute_result"
    },
    {
     "data": {
      "text/plain": [
       "(0.5933768656716417, 0.5895335820895522, 0.5557675906183368)"
      ]
     },
     "execution_count": 40,
     "metadata": {},
     "output_type": "execute_result"
    },
    {
     "data": {
      "image/png": "[encoded data removed]",
      "text/plain": [
       "<Figure size 800x600 with 1 Axes>"
      ]
     },
     "metadata": {},
     "output_type": "display_data"
    }
   ],
   "source": [
    "fig = plt.figure(figsize=(4,3), dpi=200)\n",
    "ax=fig.subplots()\n",
    "\n",
    "## fig 1a\n",
    "with open(\"../mid_result/xgb_result/BRCA_ori0.pickle\", 'rb') as f:\n",
    "    xgb= pickle.load(f)\n",
    "with open(\"../mid_result/other_ML_result/random_forest.pickle\", 'rb') as f:\n",
    "    rf= pickle.load(f)\n",
    "with open(\"../mid_result/other_ML_result/adaboost.pickle\", 'rb') as f:\n",
    "    ad= pickle.load(f)\n",
    "xgb=xgb['AUC']\n",
    "xgb.name='XGB'\n",
    "\n",
    "rf=rf['AUC']\n",
    "rf.name='RFT'\n",
    "\n",
    "ad=ad['AUC']\n",
    "ad.name='ADB'\n",
    "\n",
    "merged_df=pd.concat([xgb, rf, ad], axis=1)\n",
    "merged_df.plot.box(ax=ax, color='steelblue', showmeans=True)\n",
    "\n",
    "_=ax.set_ylabel('AUC', fontsize=13)\n",
    "_=ax.tick_params(axis='both', labelsize=10)\n",
    "\n",
    "xgb.mean(), rf.mean(), ad.mean()"
   ]
  }
 ],
 "metadata": {
  "colab": {
   "collapsed_sections": [],
   "name": "geo_proc_v2_김유림_0517_jm미팅.ipynb",
   "provenance": []
  },
  "hide_input": false,
  "kernelspec": {
   "display_name": "Python 3 (ipykernel)",
   "language": "python",
   "name": "python3"
  },
  "language_info": {
   "codemirror_mode": {
    "name": "ipython",
    "version": 3
   },
   "file_extension": ".py",
   "mimetype": "text/x-python",
   "name": "python",
   "nbconvert_exporter": "python",
   "pygments_lexer": "ipython3",
   "version": "3.9.12"
  },
  "toc": {
   "base_numbering": 1,
   "nav_menu": {},
   "number_sections": true,
   "sideBar": true,
   "skip_h1_title": false,
   "title_cell": "Table of Contents",
   "title_sidebar": "Contents",
   "toc_cell": false,
   "toc_position": {
    "height": "calc(100% - 180px)",
    "left": "10px",
    "top": "150px",
    "width": "175.719px"
   },
   "toc_section_display": true,
   "toc_window_display": true
  },
  "varInspector": {
   "cols": {
    "lenName": 16,
    "lenType": 16,
    "lenVar": 40
   },
   "kernels_config": {
    "python": {
     "delete_cmd_postfix": "",
     "delete_cmd_prefix": "del ",
     "library": "var_list.py",
     "varRefreshCmd": "print(var_dic_list())"
    },
    "r": {
     "delete_cmd_postfix": ") ",
     "delete_cmd_prefix": "rm(",
     "library": "var_list.r",
     "varRefreshCmd": "cat(var_dic_list()) "
    }
   },
   "position": {
    "height": "144.716px",
    "left": "1138.08px",
    "right": "20px",
    "top": "117.997px",
    "width": "350px"
   },
   "types_to_exclude": [
    "module",
    "function",
    "builtin_function_or_method",
    "instance",
    "_Feature"
   ],
   "window_display": false
  }
 },
 "nbformat": 4,
 "nbformat_minor": 1
}
