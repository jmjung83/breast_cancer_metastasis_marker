{
 "cells": [
  {
   "cell_type": "code",
   "execution_count": 7,
   "metadata": {
    "colab": {
     "base_uri": "https://localhost:8080/"
    },
    "executionInfo": {
     "elapsed": 955,
     "status": "ok",
     "timestamp": 1653221401649,
     "user": {
      "displayName": "김유림",
      "userId": "09242611142827377637"
     },
     "user_tz": -540
    },
    "id": "2rMspEFTrFA0",
    "outputId": "44f46208-900d-4935-bf91-9e42c0d642b2",
    "scrolled": true
   },
   "outputs": [
    {
     "name": "stdout",
     "output_type": "stream",
     "text": [
      "python 3.11.3 | packaged by Anaconda, Inc. | (main, Apr 19 2023, 23:46:34) [MSC v.1916 64 bit (AMD64)]\n"
     ]
    }
   ],
   "source": [
    "# 사용할 패키지를 import합니다\n",
    "import sys\n",
    "print('python', sys.version)\n",
    "\n",
    "import numpy as np\n",
    "import pandas as pd\n",
    "import matplotlib as mpl\n",
    "\n",
    "import glob\n",
    "import pickle\n",
    "import matplotlib.pyplot as plt\n",
    "plt.rc(\"font\", family=\"Malgun Gothic\") # window\n",
    "plt.rc(\"axes\", unicode_minus=False) # x,y축 (-)부호 표시\n",
    "\n",
    "import seaborn as sns\n",
    "from scipy.stats import hypergeom\n",
    "\n",
    "# 결과 확인을 용이하게 하기 위한 코드\n",
    "from IPython.core.interactiveshell import InteractiveShell\n",
    "InteractiveShell.ast_node_interactivity = 'all'\n"
   ]
  },
  {
   "cell_type": "code",
   "execution_count": 8,
   "metadata": {},
   "outputs": [],
   "source": [
    "def get_weighted_fti(xgb_res):\n",
    "    return xgb_res.iloc[:,2:].multiply(xgb_res['AUC'], axis=0).sum(axis=0)\n",
    "\n",
    "def get_fti_emp_pval(can_code):\n",
    "    fti_back_dist=[]\n",
    "    for file_name in glob.glob(\"../n_stage_pred_BRCA_0804toPC/mid_result/xgb_result/{}_ran*.pickle\".format(can_code)):\n",
    "        with open(file_name, 'rb') as f:\n",
    "            ran_fti= pickle.load(f)\n",
    "        \n",
    "        ran_fti=get_weighted_fti(ran_fti)\n",
    "        fti_back_dist+=list(ran_fti)\n",
    "\n",
    "    fti_back_dist=pd.Series(fti_back_dist).sort_values(ascending=False)\n",
    "\n",
    "    with open(\"../n_stage_pred_BRCA_0804toPC/mid_result/xgb_result/{}_ori0.pickle\".format(can_code), 'rb') as f:\n",
    "        ori_fti= pickle.load(f)\n",
    "\n",
    "    FS_df=get_weighted_fti(ori_fti).sort_values(ascending=False).to_frame()\n",
    "    FS_df.columns=['FS']\n",
    "    FS_df['epval']=FS_df['FS'].map(lambda x: np.sum(fti_back_dist>=x))/len(fti_back_dist)\n",
    "    ori_fti.index = ['M{}'.format(ii+1) for ii in ori_fti.index]\n",
    "    \n",
    "    return fti_back_dist, FS_df , ori_fti   \n"
   ]
  },
  {
   "cell_type": "code",
   "execution_count": 9,
   "metadata": {},
   "outputs": [],
   "source": [
    "can_code='BRCA'\n",
    "fti_back_dist, FS_df, ori_fti=get_fti_emp_pval(can_code)\n",
    "with open(\"../n_stage_pred_BRCA_0804toPC/main_result/sig_res/{}.pickle\".format(can_code), 'wb') as f:\n",
    "    pickle.dump(FS_df, f)"
   ]
  },
  {
   "cell_type": "markdown",
   "metadata": {},
   "source": [
    "# Table S1"
   ]
  },
  {
   "cell_type": "code",
   "execution_count": 10,
   "metadata": {},
   "outputs": [
    {
     "data": {
      "text/html": [
       "<div>\n",
       "<style scoped>\n",
       "    .dataframe tbody tr th:only-of-type {\n",
       "        vertical-align: middle;\n",
       "    }\n",
       "\n",
       "    .dataframe tbody tr th {\n",
       "        vertical-align: top;\n",
       "    }\n",
       "\n",
       "    .dataframe thead th {\n",
       "        text-align: right;\n",
       "    }\n",
       "</style>\n",
       "<table border=\"1\" class=\"dataframe\">\n",
       "  <thead>\n",
       "    <tr style=\"text-align: right;\">\n",
       "      <th></th>\n",
       "      <th>FS</th>\n",
       "      <th>epval</th>\n",
       "    </tr>\n",
       "  </thead>\n",
       "  <tbody>\n",
       "    <tr>\n",
       "      <th>ZNF676</th>\n",
       "      <td>0.123038</td>\n",
       "      <td>0.000000</td>\n",
       "    </tr>\n",
       "    <tr>\n",
       "      <th>FAM163B</th>\n",
       "      <td>0.093631</td>\n",
       "      <td>0.000000</td>\n",
       "    </tr>\n",
       "    <tr>\n",
       "      <th>LDOC1</th>\n",
       "      <td>0.087836</td>\n",
       "      <td>0.000000</td>\n",
       "    </tr>\n",
       "    <tr>\n",
       "      <th>FAM78B</th>\n",
       "      <td>0.087489</td>\n",
       "      <td>0.000000</td>\n",
       "    </tr>\n",
       "    <tr>\n",
       "      <th>IRF1</th>\n",
       "      <td>0.086791</td>\n",
       "      <td>0.000000</td>\n",
       "    </tr>\n",
       "    <tr>\n",
       "      <th>SLFNL1</th>\n",
       "      <td>0.080898</td>\n",
       "      <td>0.000012</td>\n",
       "    </tr>\n",
       "    <tr>\n",
       "      <th>CHRNA5</th>\n",
       "      <td>0.079513</td>\n",
       "      <td>0.000012</td>\n",
       "    </tr>\n",
       "    <tr>\n",
       "      <th>STK40</th>\n",
       "      <td>0.077641</td>\n",
       "      <td>0.000012</td>\n",
       "    </tr>\n",
       "    <tr>\n",
       "      <th>MISP</th>\n",
       "      <td>0.067333</td>\n",
       "      <td>0.000023</td>\n",
       "    </tr>\n",
       "    <tr>\n",
       "      <th>SPPL2C</th>\n",
       "      <td>0.063177</td>\n",
       "      <td>0.000035</td>\n",
       "    </tr>\n",
       "  </tbody>\n",
       "</table>\n",
       "</div>"
      ],
      "text/plain": [
       "               FS     epval\n",
       "ZNF676   0.123038  0.000000\n",
       "FAM163B  0.093631  0.000000\n",
       "LDOC1    0.087836  0.000000\n",
       "FAM78B   0.087489  0.000000\n",
       "IRF1     0.086791  0.000000\n",
       "SLFNL1   0.080898  0.000012\n",
       "CHRNA5   0.079513  0.000012\n",
       "STK40    0.077641  0.000012\n",
       "MISP     0.067333  0.000023\n",
       "SPPL2C   0.063177  0.000035"
      ]
     },
     "execution_count": 10,
     "metadata": {},
     "output_type": "execute_result"
    }
   ],
   "source": [
    "FS_df.head(10)"
   ]
  },
  {
   "cell_type": "code",
   "execution_count": 163,
   "metadata": {},
   "outputs": [
    {
     "data": {
      "text/html": [
       "<div>\n",
       "<style scoped>\n",
       "    .dataframe tbody tr th:only-of-type {\n",
       "        vertical-align: middle;\n",
       "    }\n",
       "\n",
       "    .dataframe tbody tr th {\n",
       "        vertical-align: top;\n",
       "    }\n",
       "\n",
       "    .dataframe thead th {\n",
       "        text-align: right;\n",
       "    }\n",
       "</style>\n",
       "<table border=\"1\" class=\"dataframe\">\n",
       "  <thead>\n",
       "    <tr style=\"text-align: right;\">\n",
       "      <th></th>\n",
       "      <th>AUC</th>\n",
       "      <th>ZNF676</th>\n",
       "      <th>FAM163B</th>\n",
       "      <th>LDOC1</th>\n",
       "      <th>FAM78B</th>\n",
       "      <th>IRF1</th>\n",
       "      <th>SLFNL1</th>\n",
       "      <th>CHRNA5</th>\n",
       "      <th>STK40</th>\n",
       "      <th>MISP</th>\n",
       "      <th>...</th>\n",
       "      <th>CCDC88A</th>\n",
       "      <th>EBF1</th>\n",
       "      <th>NXF2B</th>\n",
       "      <th>MCM3AP</th>\n",
       "      <th>ANKRD12</th>\n",
       "      <th>EEF1AKMT4</th>\n",
       "      <th>FAM160B1</th>\n",
       "      <th>GSC2</th>\n",
       "      <th>NKG7</th>\n",
       "      <th>TMEM265</th>\n",
       "    </tr>\n",
       "  </thead>\n",
       "  <tbody>\n",
       "    <tr>\n",
       "      <th>FS</th>\n",
       "      <td>-</td>\n",
       "      <td>0.123038</td>\n",
       "      <td>0.093631</td>\n",
       "      <td>0.087836</td>\n",
       "      <td>0.087489</td>\n",
       "      <td>0.086791</td>\n",
       "      <td>0.080898</td>\n",
       "      <td>0.079513</td>\n",
       "      <td>0.077641</td>\n",
       "      <td>0.067333</td>\n",
       "      <td>...</td>\n",
       "      <td>0.0</td>\n",
       "      <td>0.0</td>\n",
       "      <td>0.0</td>\n",
       "      <td>0.0</td>\n",
       "      <td>0.0</td>\n",
       "      <td>0.0</td>\n",
       "      <td>0.0</td>\n",
       "      <td>0.0</td>\n",
       "      <td>0.0</td>\n",
       "      <td>0.0</td>\n",
       "    </tr>\n",
       "    <tr>\n",
       "      <th>epval</th>\n",
       "      <td>-</td>\n",
       "      <td>0.000000</td>\n",
       "      <td>0.000000</td>\n",
       "      <td>0.000000</td>\n",
       "      <td>0.000000</td>\n",
       "      <td>0.000000</td>\n",
       "      <td>0.000012</td>\n",
       "      <td>0.000012</td>\n",
       "      <td>0.000012</td>\n",
       "      <td>0.000023</td>\n",
       "      <td>...</td>\n",
       "      <td>1.0</td>\n",
       "      <td>1.0</td>\n",
       "      <td>1.0</td>\n",
       "      <td>1.0</td>\n",
       "      <td>1.0</td>\n",
       "      <td>1.0</td>\n",
       "      <td>1.0</td>\n",
       "      <td>1.0</td>\n",
       "      <td>1.0</td>\n",
       "      <td>1.0</td>\n",
       "    </tr>\n",
       "    <tr>\n",
       "      <th>M1</th>\n",
       "      <td>0.626066</td>\n",
       "      <td>0.025571</td>\n",
       "      <td>0.004809</td>\n",
       "      <td>0.000000</td>\n",
       "      <td>0.003760</td>\n",
       "      <td>0.013501</td>\n",
       "      <td>0.002462</td>\n",
       "      <td>0.000000</td>\n",
       "      <td>0.000174</td>\n",
       "      <td>0.000000</td>\n",
       "      <td>...</td>\n",
       "      <td>0.0</td>\n",
       "      <td>0.0</td>\n",
       "      <td>0.0</td>\n",
       "      <td>0.0</td>\n",
       "      <td>0.0</td>\n",
       "      <td>0.0</td>\n",
       "      <td>0.0</td>\n",
       "      <td>0.0</td>\n",
       "      <td>0.0</td>\n",
       "      <td>0.0</td>\n",
       "    </tr>\n",
       "    <tr>\n",
       "      <th>M2</th>\n",
       "      <td>0.49347</td>\n",
       "      <td>0.000128</td>\n",
       "      <td>0.000000</td>\n",
       "      <td>0.000257</td>\n",
       "      <td>0.000000</td>\n",
       "      <td>0.000000</td>\n",
       "      <td>0.000344</td>\n",
       "      <td>0.000000</td>\n",
       "      <td>0.000000</td>\n",
       "      <td>0.023449</td>\n",
       "      <td>...</td>\n",
       "      <td>0.0</td>\n",
       "      <td>0.0</td>\n",
       "      <td>0.0</td>\n",
       "      <td>0.0</td>\n",
       "      <td>0.0</td>\n",
       "      <td>0.0</td>\n",
       "      <td>0.0</td>\n",
       "      <td>0.0</td>\n",
       "      <td>0.0</td>\n",
       "      <td>0.0</td>\n",
       "    </tr>\n",
       "    <tr>\n",
       "      <th>M3</th>\n",
       "      <td>0.56903</td>\n",
       "      <td>0.004829</td>\n",
       "      <td>0.001019</td>\n",
       "      <td>0.004816</td>\n",
       "      <td>0.004417</td>\n",
       "      <td>0.000000</td>\n",
       "      <td>0.000000</td>\n",
       "      <td>0.000000</td>\n",
       "      <td>0.004428</td>\n",
       "      <td>0.000000</td>\n",
       "      <td>...</td>\n",
       "      <td>0.0</td>\n",
       "      <td>0.0</td>\n",
       "      <td>0.0</td>\n",
       "      <td>0.0</td>\n",
       "      <td>0.0</td>\n",
       "      <td>0.0</td>\n",
       "      <td>0.0</td>\n",
       "      <td>0.0</td>\n",
       "      <td>0.0</td>\n",
       "      <td>0.0</td>\n",
       "    </tr>\n",
       "  </tbody>\n",
       "</table>\n",
       "<p>5 rows × 19178 columns</p>\n",
       "</div>"
      ],
      "text/plain": [
       "            AUC    ZNF676   FAM163B     LDOC1    FAM78B      IRF1    SLFNL1  \\\n",
       "FS            -  0.123038  0.093631  0.087836  0.087489  0.086791  0.080898   \n",
       "epval         -  0.000000  0.000000  0.000000  0.000000  0.000000  0.000012   \n",
       "M1     0.626066  0.025571  0.004809  0.000000  0.003760  0.013501  0.002462   \n",
       "M2      0.49347  0.000128  0.000000  0.000257  0.000000  0.000000  0.000344   \n",
       "M3      0.56903  0.004829  0.001019  0.004816  0.004417  0.000000  0.000000   \n",
       "\n",
       "         CHRNA5     STK40      MISP  ...  CCDC88A  EBF1  NXF2B  MCM3AP  \\\n",
       "FS     0.079513  0.077641  0.067333  ...      0.0   0.0    0.0     0.0   \n",
       "epval  0.000012  0.000012  0.000023  ...      1.0   1.0    1.0     1.0   \n",
       "M1     0.000000  0.000174  0.000000  ...      0.0   0.0    0.0     0.0   \n",
       "M2     0.000000  0.000000  0.023449  ...      0.0   0.0    0.0     0.0   \n",
       "M3     0.000000  0.004428  0.000000  ...      0.0   0.0    0.0     0.0   \n",
       "\n",
       "       ANKRD12  EEF1AKMT4  FAM160B1  GSC2  NKG7  TMEM265  \n",
       "FS         0.0        0.0       0.0   0.0   0.0      0.0  \n",
       "epval      1.0        1.0       1.0   1.0   1.0      1.0  \n",
       "M1         0.0        0.0       0.0   0.0   0.0      0.0  \n",
       "M2         0.0        0.0       0.0   0.0   0.0      0.0  \n",
       "M3         0.0        0.0       0.0   0.0   0.0      0.0  \n",
       "\n",
       "[5 rows x 19178 columns]"
      ]
     },
     "execution_count": 163,
     "metadata": {},
     "output_type": "execute_result"
    }
   ],
   "source": [
    "FS_df2=FS_df.T.copy()\n",
    "FS_df2.insert(0,'AUC',['-','-'])\n",
    "con_df=pd.concat([FS_df2, ori_fti], axis=0, join='inner')\n",
    "con_df.head()\n",
    "con_df.to_csv(\"D:/jmjung/n_stage_pred_BRCA/main_result/table_s1.csv\")"
   ]
  },
  {
   "cell_type": "markdown",
   "metadata": {},
   "source": [
    "# Fig 2"
   ]
  },
  {
   "cell_type": "code",
   "execution_count": 15,
   "metadata": {},
   "outputs": [
    {
     "data": {
      "text/plain": [
       "<Axes: ylabel='Frequency'>"
      ]
     },
     "execution_count": 15,
     "metadata": {},
     "output_type": "execute_result"
    },
    {
     "data": {
      "text/plain": [
       "<Axes: ylabel='Frequency'>"
      ]
     },
     "execution_count": 15,
     "metadata": {},
     "output_type": "execute_result"
    },
    {
     "data": {
      "text/plain": [
       "0.024195191126156004"
      ]
     },
     "execution_count": 15,
     "metadata": {},
     "output_type": "execute_result"
    },
    {
     "data": {
      "text/plain": [
       "0.013451957318838489"
      ]
     },
     "execution_count": 15,
     "metadata": {},
     "output_type": "execute_result"
    },
    {
     "data": {
      "text/plain": [
       "0.01041735500791795"
      ]
     },
     "execution_count": 15,
     "metadata": {},
     "output_type": "execute_result"
    },
    {
     "data": {
      "text/plain": [
       "Text(0.03, 0.99, '(a)')"
      ]
     },
     "execution_count": 15,
     "metadata": {},
     "output_type": "execute_result"
    },
    {
     "data": {
      "text/plain": [
       "Text(0.53, 0.99, '(b)')"
      ]
     },
     "execution_count": 15,
     "metadata": {},
     "output_type": "execute_result"
    },
    {
     "data": {
      "image/png": "[encoded data removed]",
      "text/plain": [
       "<Figure size 2000x600 with 2 Axes>"
      ]
     },
     "metadata": {},
     "output_type": "display_data"
    }
   ],
   "source": [
    "fig = plt.figure(figsize=(10,3), dpi=200)\n",
    "ax=fig.subplots(1,2)\n",
    "\n",
    "## fig 1a\n",
    "FS_df['FS'].plot.hist(logy=True, ax=ax[0], bins=50, edgecolor='k', color='lightcoral')\n",
    "_=ax[0].set_ylabel('Frequency (log-scale)', fontsize=15)\n",
    "_=ax[0].set_xlabel('Metastasis score (MS)', fontsize=15)\n",
    "_=ax[0].tick_params(axis='both', labelsize=12)\n",
    "\n",
    "## fig 1b\n",
    "fti_back_dist.plot.hist(logy=True, ax=ax[1], bins=50, color='lightgrey')\n",
    "\n",
    "for th, col in zip([0.001, 0.005, 0.01], ['darkred','indianred','lightcoral']):\n",
    "    sig_fti=fti_back_dist.iloc[int(len(fti_back_dist)*th)]\n",
    "    sig_fti\n",
    "    _=ax[1].axvline(sig_fti, label=th, color=col)\n",
    "_=ax[1].set_ylabel('Frequency (log-scale)', fontsize=15)\n",
    "_=ax[1].set_xlabel('Metastasis score (MS)', fontsize=15)\n",
    "_=ax[1].tick_params(axis='both', labelsize=12)\n",
    "\n",
    "# legend\n",
    "col_dic = {'0.001 (0.024)':'darkred', '0.005 (0.014)':'indianred', '0.01 (0.010)':'lightcoral'}         \n",
    "labels = list(col_dic.keys())\n",
    "handles = [plt.Rectangle((0,0),1,1, color=col_dic[label]) for label in labels]\n",
    "_=ax[1].legend(handles, labels, title='EP (MS)', fontsize=13, title_fontsize=13)\n",
    "    \n",
    "##\n",
    "fig.text(0.03,0.99,'(a)', fontsize=16)\n",
    "fig.text(0.53,0.99,'(b)', fontsize=16)\n",
    "\n",
    "fig.tight_layout()"
   ]
  }
 ],
 "metadata": {
  "colab": {
   "collapsed_sections": [],
   "name": "geo_proc_v2_김유림_0517_jm미팅.ipynb",
   "provenance": []
  },
  "hide_input": false,
  "kernelspec": {
   "display_name": "Python 3 (ipykernel)",
   "language": "python",
   "name": "python3"
  },
  "language_info": {
   "codemirror_mode": {
    "name": "ipython",
    "version": 3
   },
   "file_extension": ".py",
   "mimetype": "text/x-python",
   "name": "python",
   "nbconvert_exporter": "python",
   "pygments_lexer": "ipython3",
   "version": "3.11.3"
  },
  "toc": {
   "base_numbering": 1,
   "nav_menu": {},
   "number_sections": true,
   "sideBar": true,
   "skip_h1_title": false,
   "title_cell": "Table of Contents",
   "title_sidebar": "Contents",
   "toc_cell": false,
   "toc_position": {
    "height": "calc(100% - 180px)",
    "left": "10px",
    "top": "150px",
    "width": "254.705px"
   },
   "toc_section_display": true,
   "toc_window_display": true
  },
  "varInspector": {
   "cols": {
    "lenName": 16,
    "lenType": 16,
    "lenVar": 40
   },
   "kernels_config": {
    "python": {
     "delete_cmd_postfix": "",
     "delete_cmd_prefix": "del ",
     "library": "var_list.py",
     "varRefreshCmd": "print(var_dic_list())"
    },
    "r": {
     "delete_cmd_postfix": ") ",
     "delete_cmd_prefix": "rm(",
     "library": "var_list.r",
     "varRefreshCmd": "cat(var_dic_list()) "
    }
   },
   "position": {
    "height": "144.716px",
    "left": "1138.08px",
    "right": "20px",
    "top": "117.997px",
    "width": "350px"
   },
   "types_to_exclude": [
    "module",
    "function",
    "builtin_function_or_method",
    "instance",
    "_Feature"
   ],
   "window_display": false
  }
 },
 "nbformat": 4,
 "nbformat_minor": 1
}
